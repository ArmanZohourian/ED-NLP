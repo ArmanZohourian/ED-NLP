{
 "nbformat": 4,
 "nbformat_minor": 0,
 "metadata": {
  "colab": {
   "provenance": [],
   "machine_shape": "hm",
   "gpuType": "A100",
   "name": "NLP_Project_2025.ipynb"
  },
  "kernelspec": {
   "name": "python3",
   "display_name": "Python 3"
  },
  "language_info": {
   "name": "python"
  },
  "accelerator": "GPU",
  "widgets": {
   "application/vnd.jupyter.widget-state+json": {
    "f6497e28b59f40108ec6623619ef199a": {
     "model_module": "@jupyter-widgets/controls",
     "model_name": "HBoxModel",
     "model_module_version": "1.5.0",
     "state": {
      "_dom_classes": [],
      "_model_module": "@jupyter-widgets/controls",
      "_model_module_version": "1.5.0",
      "_model_name": "HBoxModel",
      "_view_count": null,
      "_view_module": "@jupyter-widgets/controls",
      "_view_module_version": "1.5.0",
      "_view_name": "HBoxView",
      "box_style": "",
      "children": [
       "IPY_MODEL_36dd3774f985406db2dc2de2c5b1a8c7",
       "IPY_MODEL_cc2ca88e6b044797bf1b141dfdedb62e",
       "IPY_MODEL_4bc58bf041ef4faf88414852bf4c31c1"
      ],
      "layout": "IPY_MODEL_c223da986543457b833cb11a7eb3d639"
     }
    },
    "36dd3774f985406db2dc2de2c5b1a8c7": {
     "model_module": "@jupyter-widgets/controls",
     "model_name": "HTMLModel",
     "model_module_version": "1.5.0",
     "state": {
      "_dom_classes": [],
      "_model_module": "@jupyter-widgets/controls",
      "_model_module_version": "1.5.0",
      "_model_name": "HTMLModel",
      "_view_count": null,
      "_view_module": "@jupyter-widgets/controls",
      "_view_module_version": "1.5.0",
      "_view_name": "HTMLView",
      "description": "",
      "description_tooltip": null,
      "layout": "IPY_MODEL_df4e15cd62fd4635b9a320b5467cb3f7",
      "placeholder": "​",
      "style": "IPY_MODEL_947d0fecd5d54b158f2b255026e07bdf",
      "value": "Map: 100%"
     }
    },
    "cc2ca88e6b044797bf1b141dfdedb62e": {
     "model_module": "@jupyter-widgets/controls",
     "model_name": "FloatProgressModel",
     "model_module_version": "1.5.0",
     "state": {
      "_dom_classes": [],
      "_model_module": "@jupyter-widgets/controls",
      "_model_module_version": "1.5.0",
      "_model_name": "FloatProgressModel",
      "_view_count": null,
      "_view_module": "@jupyter-widgets/controls",
      "_view_module_version": "1.5.0",
      "_view_name": "ProgressView",
      "bar_style": "success",
      "description": "",
      "description_tooltip": null,
      "layout": "IPY_MODEL_ce70419895424fa7b3fadcf62e0b059d",
      "max": 2214,
      "min": 0,
      "orientation": "horizontal",
      "style": "IPY_MODEL_0c71305c79524abb9329628e1debaa8a",
      "value": 2214
     }
    },
    "4bc58bf041ef4faf88414852bf4c31c1": {
     "model_module": "@jupyter-widgets/controls",
     "model_name": "HTMLModel",
     "model_module_version": "1.5.0",
     "state": {
      "_dom_classes": [],
      "_model_module": "@jupyter-widgets/controls",
      "_model_module_version": "1.5.0",
      "_model_name": "HTMLModel",
      "_view_count": null,
      "_view_module": "@jupyter-widgets/controls",
      "_view_module_version": "1.5.0",
      "_view_name": "HTMLView",
      "description": "",
      "description_tooltip": null,
      "layout": "IPY_MODEL_c26d5291f1e34521b0c9d67f51ca3d9a",
      "placeholder": "​",
      "style": "IPY_MODEL_7a47abde348942bd8e08d49d9efe2f89",
      "value": " 2214/2214 [00:00&lt;00:00, 3440.36 examples/s]"
     }
    },
    "c223da986543457b833cb11a7eb3d639": {
     "model_module": "@jupyter-widgets/base",
     "model_name": "LayoutModel",
     "model_module_version": "1.2.0",
     "state": {
      "_model_module": "@jupyter-widgets/base",
      "_model_module_version": "1.2.0",
      "_model_name": "LayoutModel",
      "_view_count": null,
      "_view_module": "@jupyter-widgets/base",
      "_view_module_version": "1.2.0",
      "_view_name": "LayoutView",
      "align_content": null,
      "align_items": null,
      "align_self": null,
      "border": null,
      "bottom": null,
      "display": null,
      "flex": null,
      "flex_flow": null,
      "grid_area": null,
      "grid_auto_columns": null,
      "grid_auto_flow": null,
      "grid_auto_rows": null,
      "grid_column": null,
      "grid_gap": null,
      "grid_row": null,
      "grid_template_areas": null,
      "grid_template_columns": null,
      "grid_template_rows": null,
      "height": null,
      "justify_content": null,
      "justify_items": null,
      "left": null,
      "margin": null,
      "max_height": null,
      "max_width": null,
      "min_height": null,
      "min_width": null,
      "object_fit": null,
      "object_position": null,
      "order": null,
      "overflow": null,
      "overflow_x": null,
      "overflow_y": null,
      "padding": null,
      "right": null,
      "top": null,
      "visibility": null,
      "width": null
     }
    },
    "df4e15cd62fd4635b9a320b5467cb3f7": {
     "model_module": "@jupyter-widgets/base",
     "model_name": "LayoutModel",
     "model_module_version": "1.2.0",
     "state": {
      "_model_module": "@jupyter-widgets/base",
      "_model_module_version": "1.2.0",
      "_model_name": "LayoutModel",
      "_view_count": null,
      "_view_module": "@jupyter-widgets/base",
      "_view_module_version": "1.2.0",
      "_view_name": "LayoutView",
      "align_content": null,
      "align_items": null,
      "align_self": null,
      "border": null,
      "bottom": null,
      "display": null,
      "flex": null,
      "flex_flow": null,
      "grid_area": null,
      "grid_auto_columns": null,
      "grid_auto_flow": null,
      "grid_auto_rows": null,
      "grid_column": null,
      "grid_gap": null,
      "grid_row": null,
      "grid_template_areas": null,
      "grid_template_columns": null,
      "grid_template_rows": null,
      "height": null,
      "justify_content": null,
      "justify_items": null,
      "left": null,
      "margin": null,
      "max_height": null,
      "max_width": null,
      "min_height": null,
      "min_width": null,
      "object_fit": null,
      "object_position": null,
      "order": null,
      "overflow": null,
      "overflow_x": null,
      "overflow_y": null,
      "padding": null,
      "right": null,
      "top": null,
      "visibility": null,
      "width": null
     }
    },
    "947d0fecd5d54b158f2b255026e07bdf": {
     "model_module": "@jupyter-widgets/controls",
     "model_name": "DescriptionStyleModel",
     "model_module_version": "1.5.0",
     "state": {
      "_model_module": "@jupyter-widgets/controls",
      "_model_module_version": "1.5.0",
      "_model_name": "DescriptionStyleModel",
      "_view_count": null,
      "_view_module": "@jupyter-widgets/base",
      "_view_module_version": "1.2.0",
      "_view_name": "StyleView",
      "description_width": ""
     }
    },
    "ce70419895424fa7b3fadcf62e0b059d": {
     "model_module": "@jupyter-widgets/base",
     "model_name": "LayoutModel",
     "model_module_version": "1.2.0",
     "state": {
      "_model_module": "@jupyter-widgets/base",
      "_model_module_version": "1.2.0",
      "_model_name": "LayoutModel",
      "_view_count": null,
      "_view_module": "@jupyter-widgets/base",
      "_view_module_version": "1.2.0",
      "_view_name": "LayoutView",
      "align_content": null,
      "align_items": null,
      "align_self": null,
      "border": null,
      "bottom": null,
      "display": null,
      "flex": null,
      "flex_flow": null,
      "grid_area": null,
      "grid_auto_columns": null,
      "grid_auto_flow": null,
      "grid_auto_rows": null,
      "grid_column": null,
      "grid_gap": null,
      "grid_row": null,
      "grid_template_areas": null,
      "grid_template_columns": null,
      "grid_template_rows": null,
      "height": null,
      "justify_content": null,
      "justify_items": null,
      "left": null,
      "margin": null,
      "max_height": null,
      "max_width": null,
      "min_height": null,
      "min_width": null,
      "object_fit": null,
      "object_position": null,
      "order": null,
      "overflow": null,
      "overflow_x": null,
      "overflow_y": null,
      "padding": null,
      "right": null,
      "top": null,
      "visibility": null,
      "width": null
     }
    },
    "0c71305c79524abb9329628e1debaa8a": {
     "model_module": "@jupyter-widgets/controls",
     "model_name": "ProgressStyleModel",
     "model_module_version": "1.5.0",
     "state": {
      "_model_module": "@jupyter-widgets/controls",
      "_model_module_version": "1.5.0",
      "_model_name": "ProgressStyleModel",
      "_view_count": null,
      "_view_module": "@jupyter-widgets/base",
      "_view_module_version": "1.2.0",
      "_view_name": "StyleView",
      "bar_color": null,
      "description_width": ""
     }
    },
    "c26d5291f1e34521b0c9d67f51ca3d9a": {
     "model_module": "@jupyter-widgets/base",
     "model_name": "LayoutModel",
     "model_module_version": "1.2.0",
     "state": {
      "_model_module": "@jupyter-widgets/base",
      "_model_module_version": "1.2.0",
      "_model_name": "LayoutModel",
      "_view_count": null,
      "_view_module": "@jupyter-widgets/base",
      "_view_module_version": "1.2.0",
      "_view_name": "LayoutView",
      "align_content": null,
      "align_items": null,
      "align_self": null,
      "border": null,
      "bottom": null,
      "display": null,
      "flex": null,
      "flex_flow": null,
      "grid_area": null,
      "grid_auto_columns": null,
      "grid_auto_flow": null,
      "grid_auto_rows": null,
      "grid_column": null,
      "grid_gap": null,
      "grid_row": null,
      "grid_template_areas": null,
      "grid_template_columns": null,
      "grid_template_rows": null,
      "height": null,
      "justify_content": null,
      "justify_items": null,
      "left": null,
      "margin": null,
      "max_height": null,
      "max_width": null,
      "min_height": null,
      "min_width": null,
      "object_fit": null,
      "object_position": null,
      "order": null,
      "overflow": null,
      "overflow_x": null,
      "overflow_y": null,
      "padding": null,
      "right": null,
      "top": null,
      "visibility": null,
      "width": null
     }
    },
    "7a47abde348942bd8e08d49d9efe2f89": {
     "model_module": "@jupyter-widgets/controls",
     "model_name": "DescriptionStyleModel",
     "model_module_version": "1.5.0",
     "state": {
      "_model_module": "@jupyter-widgets/controls",
      "_model_module_version": "1.5.0",
      "_model_name": "DescriptionStyleModel",
      "_view_count": null,
      "_view_module": "@jupyter-widgets/base",
      "_view_module_version": "1.2.0",
      "_view_name": "StyleView",
      "description_width": ""
     }
    },
    "94e555f306434f029a66ae61a56f89c8": {
     "model_module": "@jupyter-widgets/controls",
     "model_name": "HBoxModel",
     "model_module_version": "1.5.0",
     "state": {
      "_dom_classes": [],
      "_model_module": "@jupyter-widgets/controls",
      "_model_module_version": "1.5.0",
      "_model_name": "HBoxModel",
      "_view_count": null,
      "_view_module": "@jupyter-widgets/controls",
      "_view_module_version": "1.5.0",
      "_view_name": "HBoxView",
      "box_style": "",
      "children": [
       "IPY_MODEL_c0c3fa6412ba4bfea6da350a3d2bc740",
       "IPY_MODEL_0614fbcfeb67472ca0156d4152374a2e",
       "IPY_MODEL_19667872ba0b43b88016c68599c60b16"
      ],
      "layout": "IPY_MODEL_ef3081ca8ad5407e947cad2f9d23d5d5"
     }
    },
    "c0c3fa6412ba4bfea6da350a3d2bc740": {
     "model_module": "@jupyter-widgets/controls",
     "model_name": "HTMLModel",
     "model_module_version": "1.5.0",
     "state": {
      "_dom_classes": [],
      "_model_module": "@jupyter-widgets/controls",
      "_model_module_version": "1.5.0",
      "_model_name": "HTMLModel",
      "_view_count": null,
      "_view_module": "@jupyter-widgets/controls",
      "_view_module_version": "1.5.0",
      "_view_name": "HTMLView",
      "description": "",
      "description_tooltip": null,
      "layout": "IPY_MODEL_e4ff665d47ef4ed9a6dc151e7f6a4912",
      "placeholder": "​",
      "style": "IPY_MODEL_7cea508831c64e7e8eec9be8980eea07",
      "value": "Map: 100%"
     }
    },
    "0614fbcfeb67472ca0156d4152374a2e": {
     "model_module": "@jupyter-widgets/controls",
     "model_name": "FloatProgressModel",
     "model_module_version": "1.5.0",
     "state": {
      "_dom_classes": [],
      "_model_module": "@jupyter-widgets/controls",
      "_model_module_version": "1.5.0",
      "_model_name": "FloatProgressModel",
      "_view_count": null,
      "_view_module": "@jupyter-widgets/controls",
      "_view_module_version": "1.5.0",
      "_view_name": "ProgressView",
      "bar_style": "success",
      "description": "",
      "description_tooltip": null,
      "layout": "IPY_MODEL_c391376605f341a4acbfd985c62c14ed",
      "max": 277,
      "min": 0,
      "orientation": "horizontal",
      "style": "IPY_MODEL_69567baa158b4cd9a766e439abdb5cd2",
      "value": 277
     }
    },
    "19667872ba0b43b88016c68599c60b16": {
     "model_module": "@jupyter-widgets/controls",
     "model_name": "HTMLModel",
     "model_module_version": "1.5.0",
     "state": {
      "_dom_classes": [],
      "_model_module": "@jupyter-widgets/controls",
      "_model_module_version": "1.5.0",
      "_model_name": "HTMLModel",
      "_view_count": null,
      "_view_module": "@jupyter-widgets/controls",
      "_view_module_version": "1.5.0",
      "_view_name": "HTMLView",
      "description": "",
      "description_tooltip": null,
      "layout": "IPY_MODEL_14416d90c9244b7cac6177676eaa56dd",
      "placeholder": "​",
      "style": "IPY_MODEL_99bdc5d622554fe6a92f6caa7265b6d2",
      "value": " 277/277 [00:00&lt;00:00, 3012.36 examples/s]"
     }
    },
    "ef3081ca8ad5407e947cad2f9d23d5d5": {
     "model_module": "@jupyter-widgets/base",
     "model_name": "LayoutModel",
     "model_module_version": "1.2.0",
     "state": {
      "_model_module": "@jupyter-widgets/base",
      "_model_module_version": "1.2.0",
      "_model_name": "LayoutModel",
      "_view_count": null,
      "_view_module": "@jupyter-widgets/base",
      "_view_module_version": "1.2.0",
      "_view_name": "LayoutView",
      "align_content": null,
      "align_items": null,
      "align_self": null,
      "border": null,
      "bottom": null,
      "display": null,
      "flex": null,
      "flex_flow": null,
      "grid_area": null,
      "grid_auto_columns": null,
      "grid_auto_flow": null,
      "grid_auto_rows": null,
      "grid_column": null,
      "grid_gap": null,
      "grid_row": null,
      "grid_template_areas": null,
      "grid_template_columns": null,
      "grid_template_rows": null,
      "height": null,
      "justify_content": null,
      "justify_items": null,
      "left": null,
      "margin": null,
      "max_height": null,
      "max_width": null,
      "min_height": null,
      "min_width": null,
      "object_fit": null,
      "object_position": null,
      "order": null,
      "overflow": null,
      "overflow_x": null,
      "overflow_y": null,
      "padding": null,
      "right": null,
      "top": null,
      "visibility": null,
      "width": null
     }
    },
    "e4ff665d47ef4ed9a6dc151e7f6a4912": {
     "model_module": "@jupyter-widgets/base",
     "model_name": "LayoutModel",
     "model_module_version": "1.2.0",
     "state": {
      "_model_module": "@jupyter-widgets/base",
      "_model_module_version": "1.2.0",
      "_model_name": "LayoutModel",
      "_view_count": null,
      "_view_module": "@jupyter-widgets/base",
      "_view_module_version": "1.2.0",
      "_view_name": "LayoutView",
      "align_content": null,
      "align_items": null,
      "align_self": null,
      "border": null,
      "bottom": null,
      "display": null,
      "flex": null,
      "flex_flow": null,
      "grid_area": null,
      "grid_auto_columns": null,
      "grid_auto_flow": null,
      "grid_auto_rows": null,
      "grid_column": null,
      "grid_gap": null,
      "grid_row": null,
      "grid_template_areas": null,
      "grid_template_columns": null,
      "grid_template_rows": null,
      "height": null,
      "justify_content": null,
      "justify_items": null,
      "left": null,
      "margin": null,
      "max_height": null,
      "max_width": null,
      "min_height": null,
      "min_width": null,
      "object_fit": null,
      "object_position": null,
      "order": null,
      "overflow": null,
      "overflow_x": null,
      "overflow_y": null,
      "padding": null,
      "right": null,
      "top": null,
      "visibility": null,
      "width": null
     }
    },
    "7cea508831c64e7e8eec9be8980eea07": {
     "model_module": "@jupyter-widgets/controls",
     "model_name": "DescriptionStyleModel",
     "model_module_version": "1.5.0",
     "state": {
      "_model_module": "@jupyter-widgets/controls",
      "_model_module_version": "1.5.0",
      "_model_name": "DescriptionStyleModel",
      "_view_count": null,
      "_view_module": "@jupyter-widgets/base",
      "_view_module_version": "1.2.0",
      "_view_name": "StyleView",
      "description_width": ""
     }
    },
    "c391376605f341a4acbfd985c62c14ed": {
     "model_module": "@jupyter-widgets/base",
     "model_name": "LayoutModel",
     "model_module_version": "1.2.0",
     "state": {
      "_model_module": "@jupyter-widgets/base",
      "_model_module_version": "1.2.0",
      "_model_name": "LayoutModel",
      "_view_count": null,
      "_view_module": "@jupyter-widgets/base",
      "_view_module_version": "1.2.0",
      "_view_name": "LayoutView",
      "align_content": null,
      "align_items": null,
      "align_self": null,
      "border": null,
      "bottom": null,
      "display": null,
      "flex": null,
      "flex_flow": null,
      "grid_area": null,
      "grid_auto_columns": null,
      "grid_auto_flow": null,
      "grid_auto_rows": null,
      "grid_column": null,
      "grid_gap": null,
      "grid_row": null,
      "grid_template_areas": null,
      "grid_template_columns": null,
      "grid_template_rows": null,
      "height": null,
      "justify_content": null,
      "justify_items": null,
      "left": null,
      "margin": null,
      "max_height": null,
      "max_width": null,
      "min_height": null,
      "min_width": null,
      "object_fit": null,
      "object_position": null,
      "order": null,
      "overflow": null,
      "overflow_x": null,
      "overflow_y": null,
      "padding": null,
      "right": null,
      "top": null,
      "visibility": null,
      "width": null
     }
    },
    "69567baa158b4cd9a766e439abdb5cd2": {
     "model_module": "@jupyter-widgets/controls",
     "model_name": "ProgressStyleModel",
     "model_module_version": "1.5.0",
     "state": {
      "_model_module": "@jupyter-widgets/controls",
      "_model_module_version": "1.5.0",
      "_model_name": "ProgressStyleModel",
      "_view_count": null,
      "_view_module": "@jupyter-widgets/base",
      "_view_module_version": "1.2.0",
      "_view_name": "StyleView",
      "bar_color": null,
      "description_width": ""
     }
    },
    "14416d90c9244b7cac6177676eaa56dd": {
     "model_module": "@jupyter-widgets/base",
     "model_name": "LayoutModel",
     "model_module_version": "1.2.0",
     "state": {
      "_model_module": "@jupyter-widgets/base",
      "_model_module_version": "1.2.0",
      "_model_name": "LayoutModel",
      "_view_count": null,
      "_view_module": "@jupyter-widgets/base",
      "_view_module_version": "1.2.0",
      "_view_name": "LayoutView",
      "align_content": null,
      "align_items": null,
      "align_self": null,
      "border": null,
      "bottom": null,
      "display": null,
      "flex": null,
      "flex_flow": null,
      "grid_area": null,
      "grid_auto_columns": null,
      "grid_auto_flow": null,
      "grid_auto_rows": null,
      "grid_column": null,
      "grid_gap": null,
      "grid_row": null,
      "grid_template_areas": null,
      "grid_template_columns": null,
      "grid_template_rows": null,
      "height": null,
      "justify_content": null,
      "justify_items": null,
      "left": null,
      "margin": null,
      "max_height": null,
      "max_width": null,
      "min_height": null,
      "min_width": null,
      "object_fit": null,
      "object_position": null,
      "order": null,
      "overflow": null,
      "overflow_x": null,
      "overflow_y": null,
      "padding": null,
      "right": null,
      "top": null,
      "visibility": null,
      "width": null
     }
    },
    "99bdc5d622554fe6a92f6caa7265b6d2": {
     "model_module": "@jupyter-widgets/controls",
     "model_name": "DescriptionStyleModel",
     "model_module_version": "1.5.0",
     "state": {
      "_model_module": "@jupyter-widgets/controls",
      "_model_module_version": "1.5.0",
      "_model_name": "DescriptionStyleModel",
      "_view_count": null,
      "_view_module": "@jupyter-widgets/base",
      "_view_module_version": "1.2.0",
      "_view_name": "StyleView",
      "description_width": ""
     }
    },
    "93ba274208db49719a6bafbe283dec71": {
     "model_module": "@jupyter-widgets/controls",
     "model_name": "HBoxModel",
     "model_module_version": "1.5.0",
     "state": {
      "_dom_classes": [],
      "_model_module": "@jupyter-widgets/controls",
      "_model_module_version": "1.5.0",
      "_model_name": "HBoxModel",
      "_view_count": null,
      "_view_module": "@jupyter-widgets/controls",
      "_view_module_version": "1.5.0",
      "_view_name": "HBoxView",
      "box_style": "",
      "children": [
       "IPY_MODEL_f930ebc67d104f5d9b1bd0b5e2c76327",
       "IPY_MODEL_122e295e7da14161aab25cddcc949e92",
       "IPY_MODEL_516850e350374c6991c9bd76599ff983"
      ],
      "layout": "IPY_MODEL_3b530ba8003f4515af2999a82b2afc96"
     }
    },
    "f930ebc67d104f5d9b1bd0b5e2c76327": {
     "model_module": "@jupyter-widgets/controls",
     "model_name": "HTMLModel",
     "model_module_version": "1.5.0",
     "state": {
      "_dom_classes": [],
      "_model_module": "@jupyter-widgets/controls",
      "_model_module_version": "1.5.0",
      "_model_name": "HTMLModel",
      "_view_count": null,
      "_view_module": "@jupyter-widgets/controls",
      "_view_module_version": "1.5.0",
      "_view_name": "HTMLView",
      "description": "",
      "description_tooltip": null,
      "layout": "IPY_MODEL_f1dc40788024452bb7c19c4f1c8ca917",
      "placeholder": "​",
      "style": "IPY_MODEL_383d79648d184cbea6046d03850b0dd7",
      "value": "Map: 100%"
     }
    },
    "122e295e7da14161aab25cddcc949e92": {
     "model_module": "@jupyter-widgets/controls",
     "model_name": "FloatProgressModel",
     "model_module_version": "1.5.0",
     "state": {
      "_dom_classes": [],
      "_model_module": "@jupyter-widgets/controls",
      "_model_module_version": "1.5.0",
      "_model_name": "FloatProgressModel",
      "_view_count": null,
      "_view_module": "@jupyter-widgets/controls",
      "_view_module_version": "1.5.0",
      "_view_name": "ProgressView",
      "bar_style": "success",
      "description": "",
      "description_tooltip": null,
      "layout": "IPY_MODEL_7927c3e6570547d7840dfb53949c71e3",
      "max": 277,
      "min": 0,
      "orientation": "horizontal",
      "style": "IPY_MODEL_f9155db1550a4725915b2821b6148525",
      "value": 277
     }
    },
    "516850e350374c6991c9bd76599ff983": {
     "model_module": "@jupyter-widgets/controls",
     "model_name": "HTMLModel",
     "model_module_version": "1.5.0",
     "state": {
      "_dom_classes": [],
      "_model_module": "@jupyter-widgets/controls",
      "_model_module_version": "1.5.0",
      "_model_name": "HTMLModel",
      "_view_count": null,
      "_view_module": "@jupyter-widgets/controls",
      "_view_module_version": "1.5.0",
      "_view_name": "HTMLView",
      "description": "",
      "description_tooltip": null,
      "layout": "IPY_MODEL_dd629b83216e4ce19170cd5f8332e7aa",
      "placeholder": "​",
      "style": "IPY_MODEL_75fdd680f9ab4bbda6bc86eaadc409dd",
      "value": " 277/277 [00:00&lt;00:00, 2491.94 examples/s]"
     }
    },
    "3b530ba8003f4515af2999a82b2afc96": {
     "model_module": "@jupyter-widgets/base",
     "model_name": "LayoutModel",
     "model_module_version": "1.2.0",
     "state": {
      "_model_module": "@jupyter-widgets/base",
      "_model_module_version": "1.2.0",
      "_model_name": "LayoutModel",
      "_view_count": null,
      "_view_module": "@jupyter-widgets/base",
      "_view_module_version": "1.2.0",
      "_view_name": "LayoutView",
      "align_content": null,
      "align_items": null,
      "align_self": null,
      "border": null,
      "bottom": null,
      "display": null,
      "flex": null,
      "flex_flow": null,
      "grid_area": null,
      "grid_auto_columns": null,
      "grid_auto_flow": null,
      "grid_auto_rows": null,
      "grid_column": null,
      "grid_gap": null,
      "grid_row": null,
      "grid_template_areas": null,
      "grid_template_columns": null,
      "grid_template_rows": null,
      "height": null,
      "justify_content": null,
      "justify_items": null,
      "left": null,
      "margin": null,
      "max_height": null,
      "max_width": null,
      "min_height": null,
      "min_width": null,
      "object_fit": null,
      "object_position": null,
      "order": null,
      "overflow": null,
      "overflow_x": null,
      "overflow_y": null,
      "padding": null,
      "right": null,
      "top": null,
      "visibility": null,
      "width": null
     }
    },
    "f1dc40788024452bb7c19c4f1c8ca917": {
     "model_module": "@jupyter-widgets/base",
     "model_name": "LayoutModel",
     "model_module_version": "1.2.0",
     "state": {
      "_model_module": "@jupyter-widgets/base",
      "_model_module_version": "1.2.0",
      "_model_name": "LayoutModel",
      "_view_count": null,
      "_view_module": "@jupyter-widgets/base",
      "_view_module_version": "1.2.0",
      "_view_name": "LayoutView",
      "align_content": null,
      "align_items": null,
      "align_self": null,
      "border": null,
      "bottom": null,
      "display": null,
      "flex": null,
      "flex_flow": null,
      "grid_area": null,
      "grid_auto_columns": null,
      "grid_auto_flow": null,
      "grid_auto_rows": null,
      "grid_column": null,
      "grid_gap": null,
      "grid_row": null,
      "grid_template_areas": null,
      "grid_template_columns": null,
      "grid_template_rows": null,
      "height": null,
      "justify_content": null,
      "justify_items": null,
      "left": null,
      "margin": null,
      "max_height": null,
      "max_width": null,
      "min_height": null,
      "min_width": null,
      "object_fit": null,
      "object_position": null,
      "order": null,
      "overflow": null,
      "overflow_x": null,
      "overflow_y": null,
      "padding": null,
      "right": null,
      "top": null,
      "visibility": null,
      "width": null
     }
    },
    "383d79648d184cbea6046d03850b0dd7": {
     "model_module": "@jupyter-widgets/controls",
     "model_name": "DescriptionStyleModel",
     "model_module_version": "1.5.0",
     "state": {
      "_model_module": "@jupyter-widgets/controls",
      "_model_module_version": "1.5.0",
      "_model_name": "DescriptionStyleModel",
      "_view_count": null,
      "_view_module": "@jupyter-widgets/base",
      "_view_module_version": "1.2.0",
      "_view_name": "StyleView",
      "description_width": ""
     }
    },
    "7927c3e6570547d7840dfb53949c71e3": {
     "model_module": "@jupyter-widgets/base",
     "model_name": "LayoutModel",
     "model_module_version": "1.2.0",
     "state": {
      "_model_module": "@jupyter-widgets/base",
      "_model_module_version": "1.2.0",
      "_model_name": "LayoutModel",
      "_view_count": null,
      "_view_module": "@jupyter-widgets/base",
      "_view_module_version": "1.2.0",
      "_view_name": "LayoutView",
      "align_content": null,
      "align_items": null,
      "align_self": null,
      "border": null,
      "bottom": null,
      "display": null,
      "flex": null,
      "flex_flow": null,
      "grid_area": null,
      "grid_auto_columns": null,
      "grid_auto_flow": null,
      "grid_auto_rows": null,
      "grid_column": null,
      "grid_gap": null,
      "grid_row": null,
      "grid_template_areas": null,
      "grid_template_columns": null,
      "grid_template_rows": null,
      "height": null,
      "justify_content": null,
      "justify_items": null,
      "left": null,
      "margin": null,
      "max_height": null,
      "max_width": null,
      "min_height": null,
      "min_width": null,
      "object_fit": null,
      "object_position": null,
      "order": null,
      "overflow": null,
      "overflow_x": null,
      "overflow_y": null,
      "padding": null,
      "right": null,
      "top": null,
      "visibility": null,
      "width": null
     }
    },
    "f9155db1550a4725915b2821b6148525": {
     "model_module": "@jupyter-widgets/controls",
     "model_name": "ProgressStyleModel",
     "model_module_version": "1.5.0",
     "state": {
      "_model_module": "@jupyter-widgets/controls",
      "_model_module_version": "1.5.0",
      "_model_name": "ProgressStyleModel",
      "_view_count": null,
      "_view_module": "@jupyter-widgets/base",
      "_view_module_version": "1.2.0",
      "_view_name": "StyleView",
      "bar_color": null,
      "description_width": ""
     }
    },
    "dd629b83216e4ce19170cd5f8332e7aa": {
     "model_module": "@jupyter-widgets/base",
     "model_name": "LayoutModel",
     "model_module_version": "1.2.0",
     "state": {
      "_model_module": "@jupyter-widgets/base",
      "_model_module_version": "1.2.0",
      "_model_name": "LayoutModel",
      "_view_count": null,
      "_view_module": "@jupyter-widgets/base",
      "_view_module_version": "1.2.0",
      "_view_name": "LayoutView",
      "align_content": null,
      "align_items": null,
      "align_self": null,
      "border": null,
      "bottom": null,
      "display": null,
      "flex": null,
      "flex_flow": null,
      "grid_area": null,
      "grid_auto_columns": null,
      "grid_auto_flow": null,
      "grid_auto_rows": null,
      "grid_column": null,
      "grid_gap": null,
      "grid_row": null,
      "grid_template_areas": null,
      "grid_template_columns": null,
      "grid_template_rows": null,
      "height": null,
      "justify_content": null,
      "justify_items": null,
      "left": null,
      "margin": null,
      "max_height": null,
      "max_width": null,
      "min_height": null,
      "min_width": null,
      "object_fit": null,
      "object_position": null,
      "order": null,
      "overflow": null,
      "overflow_x": null,
      "overflow_y": null,
      "padding": null,
      "right": null,
      "top": null,
      "visibility": null,
      "width": null
     }
    },
    "75fdd680f9ab4bbda6bc86eaadc409dd": {
     "model_module": "@jupyter-widgets/controls",
     "model_name": "DescriptionStyleModel",
     "model_module_version": "1.5.0",
     "state": {
      "_model_module": "@jupyter-widgets/controls",
      "_model_module_version": "1.5.0",
      "_model_name": "DescriptionStyleModel",
      "_view_count": null,
      "_view_module": "@jupyter-widgets/base",
      "_view_module_version": "1.2.0",
      "_view_name": "StyleView",
      "description_width": ""
     }
    }
   }
  }
 },
 "cells": [
  {
   "cell_type": "markdown",
   "source": [
    "# NLP 2025 Track A -- multilabel text classification\n",
    "\n",
    "authors:\n",
    "- Anne Marschner\n",
    "- Arshia Orangkhadivi\n",
    "- Jafar Zohourian Moftakharahmadi\n",
    "- Kirill Kuznetsov\n",
    "- Moritz Groß\n",
    "\n",
    "---"
   ],
   "metadata": {
    "id": "uTRa_zrdF33z"
   }
  },
  {
   "cell_type": "markdown",
   "source": [
    "### Task description (from Milestone 2)\n",
    "\n",
    "Given a target text snippet, we aim to predict the\n",
    "perceived emotion(s) of the speaker. Specifically,\n",
    "select whether each of the following emotions\n",
    "apply to the text: anger, fear, joy, sadness, surprise.\n",
    "This is a multi-label sentiment classification, since\n",
    "multiple nonexclusive labels may be assigned to\n",
    "each instance of text."
   ],
   "metadata": {
    "id": "P2ezphafmulL"
   }
  },
  {
   "cell_type": "markdown",
   "source": [
    "The library `transformers` by HuggingFace provides access to popular pretrained models. We use the model `distilbert/distilbert-base-uncased`, which has 67 million parameters.\n",
    "\n",
    "The libarary `datasets` is made by HuggingFace as well and provides easy and clean handling of data for our AI models, and is very compatible with `transformers` as they are from the same creators."
   ],
   "metadata": {
    "id": "H4Y1MimrL7Y3"
   }
  },
  {
   "cell_type": "code",
   "source": "!pip -q install -U transformers datasets nltk matplotlib",
   "metadata": {
    "id": "L-cBCxsk1azc",
    "ExecuteTime": {
     "end_time": "2025-07-03T12:29:51.152369Z",
     "start_time": "2025-07-03T12:29:49.989510Z"
    }
   },
   "outputs": [
    {
     "name": "stderr",
     "output_type": "stream",
     "text": [
      "huggingface/tokenizers: The current process just got forked, after parallelism has already been used. Disabling parallelism to avoid deadlocks...\n",
      "To disable this warning, you can either:\n",
      "\t- Avoid using `tokenizers` before the fork if possible\n",
      "\t- Explicitly set the environment variable TOKENIZERS_PARALLELISM=(true | false)\n"
     ]
    },
    {
     "name": "stdout",
     "output_type": "stream",
     "text": [
      "\r\n",
      "\u001B[1m[\u001B[0m\u001B[34;49mnotice\u001B[0m\u001B[1;39;49m]\u001B[0m\u001B[39;49m A new release of pip is available: \u001B[0m\u001B[31;49m25.0.1\u001B[0m\u001B[39;49m -> \u001B[0m\u001B[32;49m25.1.1\u001B[0m\r\n",
      "\u001B[1m[\u001B[0m\u001B[34;49mnotice\u001B[0m\u001B[1;39;49m]\u001B[0m\u001B[39;49m To update, run: \u001B[0m\u001B[32;49mpip install --upgrade pip\u001B[0m\r\n"
     ]
    }
   ],
   "execution_count": 13
  },
  {
   "cell_type": "code",
   "source": [
    "import torch, sklearn, numpy as np, pandas as pd, matplotlib.pyplot as plt\n",
    "import transformers, datasets   # both from HuggingFace\n",
    "\n",
    "transformers.set_seed(42)       # ensure deterministic behaviour"
   ],
   "metadata": {
    "id": "Cg6YPL5l1Onz",
    "ExecuteTime": {
     "end_time": "2025-07-03T12:29:51.176860Z",
     "start_time": "2025-07-03T12:29:51.172012Z"
    }
   },
   "outputs": [],
   "execution_count": 14
  },
  {
   "cell_type": "markdown",
   "source": [
    "## setting up the data\n"
   ],
   "metadata": {
    "id": "bN-5te3dFg_c"
   }
  },
  {
   "cell_type": "markdown",
   "source": [
    "We set the path to the dataset of track A."
   ],
   "metadata": {
    "id": "AdpYqvlDs-oT"
   }
  },
  {
   "cell_type": "code",
   "source": "csv_path = \"track-a.csv\"",
   "metadata": {
    "id": "AurJ-WmA1QeS",
    "ExecuteTime": {
     "end_time": "2025-07-03T12:29:51.191003Z",
     "start_time": "2025-07-03T12:29:51.189291Z"
    }
   },
   "outputs": [],
   "execution_count": 15
  },
  {
   "cell_type": "markdown",
   "source": [
    "format transformers Dataset object correctly into a dictionary with 2 keys, `text` and `labels`"
   ],
   "metadata": {
    "id": "wqZqF1futAwF"
   }
  },
  {
   "cell_type": "code",
   "source": [
    "label_cols = [\"anger\", \"fear\", \"joy\", \"sadness\", \"surprise\"]\n",
    "\n",
    "raw_ds = datasets.load_dataset(\"csv\", data_files=csv_path)[\"train\"] # all rows\n",
    "\n",
    "def process_dataset(ex):\n",
    "    ex[\"labels\"] = [float(ex[c]) for c in label_cols]\n",
    "    return ex\n",
    "\n",
    "raw_ds = raw_ds.map(process_dataset, remove_columns=label_cols + [\"id\"])"
   ],
   "metadata": {
    "id": "aWVKSHBJ1StD",
    "ExecuteTime": {
     "end_time": "2025-07-03T12:29:52.146350Z",
     "start_time": "2025-07-03T12:29:51.204537Z"
    }
   },
   "outputs": [],
   "execution_count": 16
  },
  {
   "cell_type": "markdown",
   "source": [
    "now the dataset consists of the input texts and the multilabel prediction is aggregated under the column `labels`"
   ],
   "metadata": {
    "id": "bZ7k3VeQwdH3"
   }
  },
  {
   "cell_type": "code",
   "source": [
    "raw_ds"
   ],
   "metadata": {
    "colab": {
     "base_uri": "https://localhost:8080/"
    },
    "id": "cIaQcXChwaxQ",
    "outputId": "93e2da54-0f05-43c4-c13d-aac8f1d4588c",
    "ExecuteTime": {
     "end_time": "2025-07-03T12:29:52.173190Z",
     "start_time": "2025-07-03T12:29:52.168939Z"
    }
   },
   "outputs": [
    {
     "data": {
      "text/plain": [
       "Dataset({\n",
       "    features: ['text', 'labels'],\n",
       "    num_rows: 2768\n",
       "})"
      ]
     },
     "execution_count": 17,
     "metadata": {},
     "output_type": "execute_result"
    }
   ],
   "execution_count": 17
  },
  {
   "cell_type": "markdown",
   "source": [
    "We split the dataset into subsets for *training*, *evaluation* and *testing*.\n",
    "\n",
    "We could not find an easy way to split it into share of 80%/10%/10% in one go, so we split it into 80%/20% first, and then split the 20%-subset again in halves, resulting in the desired partitioning.\n"
   ],
   "metadata": {
    "id": "RNkOC2tStPJc"
   }
  },
  {
   "cell_type": "code",
   "source": [
    "# split into train / eval / test\n",
    "train_tmp  = raw_ds.train_test_split(test_size=0.20, seed=42)\n",
    "eval_test  = train_tmp[\"test\"].train_test_split(test_size=0.50, seed=42)\n",
    "ds = {\"train\": train_tmp[\"train\"], # 80%\n",
    "      \"eval\" : eval_test[\"train\"], # 10%\n",
    "      \"test\" : eval_test[\"test\"]}  # 10%"
   ],
   "metadata": {
    "id": "CsusBgNotOZg",
    "ExecuteTime": {
     "end_time": "2025-07-03T12:29:52.215676Z",
     "start_time": "2025-07-03T12:29:52.209586Z"
    }
   },
   "outputs": [],
   "execution_count": 18
  },
  {
   "cell_type": "markdown",
   "source": [
    "### data exploration\n",
    "\n",
    "All columns we want to predict are binary classifications, encoded as 0 or 1 in the dataset."
   ],
   "metadata": {
    "id": "SM_TicpOIptn"
   }
  },
  {
   "cell_type": "code",
   "source": [
    "for i in range(5):\n",
    "  print(ds['train'][i])"
   ],
   "metadata": {
    "colab": {
     "base_uri": "https://localhost:8080/"
    },
    "id": "dHL4W39yywnN",
    "outputId": "227c2544-1d37-4bc5-e6ed-640ae3a8ea51",
    "ExecuteTime": {
     "end_time": "2025-07-03T12:29:52.245174Z",
     "start_time": "2025-07-03T12:29:52.242031Z"
    }
   },
   "outputs": [
    {
     "name": "stdout",
     "output_type": "stream",
     "text": [
      "{'text': \"Yea I'm with you there man.\", 'labels': [0.0, 0.0, 1.0, 0.0, 0.0]}\n",
      "{'text': 'I ate a pizza.', 'labels': [0.0, 0.0, 1.0, 0.0, 0.0]}\n",
      "{'text': 'I turned my head to oncoming headlights.', 'labels': [0.0, 1.0, 0.0, 0.0, 0.0]}\n",
      "{'text': 'Sometimes, the journey there is just as important.', 'labels': [0.0, 0.0, 1.0, 0.0, 0.0]}\n",
      "{'text': 'He was just plain GONE into thin air.', 'labels': [0.0, 1.0, 0.0, 1.0, 1.0]}\n"
     ]
    }
   ],
   "execution_count": 19
  },
  {
   "cell_type": "markdown",
   "source": [
    "like mentioned in the project description, we can see that for most labels, only in the minority of the sentences the label is true, in particular for *anger* with just 12 percent."
   ],
   "metadata": {
    "id": "VxPMMCjWzqkj"
   }
  },
  {
   "cell_type": "code",
   "source": [
    "means = pd.read_csv(csv_path)[label_cols].mean()\n",
    "\n",
    "fig, ax = plt.subplots()\n",
    "ax.bar(means.index, means.values)\n",
    "ax.set_ylabel(\"Mean\")\n",
    "ax.set_title(\"Dataset imbalance by label\")\n",
    "ax.set_xticks(range(len(means)))\n",
    "ax.set_xticklabels(means.index)\n",
    "ax.set_ylim(0, means.max()*1.1)\n",
    "\n",
    "plt.show()"
   ],
   "metadata": {
    "colab": {
     "base_uri": "https://localhost:8080/",
     "height": 452
    },
    "id": "m8VZhWEzIneL",
    "outputId": "37012426-9ae3-49b3-e34b-5ee7af297f0b",
    "ExecuteTime": {
     "end_time": "2025-07-03T12:29:52.331505Z",
     "start_time": "2025-07-03T12:29:52.281814Z"
    }
   },
   "outputs": [
    {
     "data": {
      "text/plain": [
       "<Figure size 640x480 with 1 Axes>"
      ],
      "image/png": "[encoded data removed]"
     },
     "metadata": {},
     "output_type": "display_data"
    }
   ],
   "execution_count": 20
  },
  {
   "cell_type": "markdown",
   "source": [
    "In unbalanced datasets, using precision and recall is particularly relevant. Assume we have a predictor that only outputs 0 for *anger*, then we would still have accuracy of about 90% (as the share of columns with anger as 1 is only slightly above 10%). In this case, we would notice a recall-value of 0%, as we would archive zero true-positive outputs.\n",
    "\n",
    "The same principle applies for all categories that are imbalanced, even though it is the strongest for *anger*."
   ],
   "metadata": {
    "id": "cRO8kBVD0EWu"
   }
  },
  {
   "cell_type": "markdown",
   "source": [
    "Some labels are heavily correlated, as can be assumed by their meaning. The strongest correlation is between the labels \"joy\" and \"fear\", which have a correlation of -0.49, showing the strong opposition of these emotions. The second most negative correlation is \"joy\" and \"sadness\".\n",
    "\n",
    "The strongest *positive* correlation is between \"fear\" and \"sadness\", the two emotions which we already mentioned for their strongly negative correlation with \"joy\".\n",
    "\n",
    "The lowest correlation is between \"anger\" and \"surprise\" with a value of 0.03, which is very close to 0, suggesting that these two emotions are largely unrelated."
   ],
   "metadata": {
    "id": "4-jK3hycRFqC"
   }
  },
  {
   "cell_type": "code",
   "source": [
    "df = pd.read_csv(csv_path)\n",
    "corr = df.select_dtypes(include=\"number\").corr()\n",
    "\n",
    "fig, ax = plt.subplots(figsize=(8, 8))\n",
    "im = ax.imshow(corr, cmap='RdYlGn', vmin=-1, vmax=1)\n",
    "\n",
    "n_emotions = 5\n",
    "ax.set_xticks(np.arange(n_emotions))\n",
    "ax.set_yticks(np.arange(n_emotions))\n",
    "ax.set_xticklabels(corr.columns)\n",
    "ax.set_yticklabels(corr.columns)\n",
    "\n",
    "for i in range(n_emotions):\n",
    "    for j in range(n_emotions):\n",
    "        ax.text(j, i, f\"{corr.iloc[i, j]:.2f}\", ha=\"center\", va=\"center\")\n",
    "\n",
    "plt.colorbar(im, fraction=0.046, pad=0.04)\n",
    "plt.title(\"Pairwise Correlation Matrix of emotions\")\n",
    "plt.tight_layout()\n",
    "plt.show()"
   ],
   "metadata": {
    "colab": {
     "base_uri": "https://localhost:8080/",
     "height": 679
    },
    "id": "eC4CeGxLRDxQ",
    "outputId": "40edab58-ca23-4c2a-a631-701c2d39d165",
    "ExecuteTime": {
     "end_time": "2025-07-03T12:29:52.433011Z",
     "start_time": "2025-07-03T12:29:52.345491Z"
    }
   },
   "outputs": [
    {
     "data": {
      "text/plain": [
       "<Figure size 800x800 with 2 Axes>"
      ],
      "image/png": "[encoded data removed]"
     },
     "metadata": {},
     "output_type": "display_data"
    }
   ],
   "execution_count": 21
  },
  {
   "cell_type": "markdown",
   "source": [
    "### analyzing common words\n",
    "\n",
    "Across all the sentences in the dataset, we analyze which words are appearing very frequently. To filter out words that we are not interested in for our task (like \"and\", \"very\", \"did\", ...) we use the library `nlkt` by , which stands for \"Natural Language Toolkit\"."
   ],
   "metadata": {
    "id": "nY_Llw3Y_YTN"
   }
  },
  {
   "cell_type": "code",
   "source": [
    "import re\n",
    "from collections import Counter\n",
    "import nltk\n",
    "\n",
    "nltk.download(\"stopwords\", quiet=True)\n",
    "stop_words = set(nltk.corpus.stopwords.words(\"english\"))\n",
    "\n",
    "def iter_tokens(dataset, text_column=\"text\"):\n",
    "    for doc in dataset[text_column]:\n",
    "      # all words as lowercase, split by whitespace\n",
    "        for word in re.findall(r\"\\b\\w+\\b\", doc.lower()):\n",
    "            if word not in stop_words:\n",
    "                yield word\n",
    "\n",
    "counter = Counter(iter_tokens(raw_ds))\n",
    "top_30 = counter.most_common(30)\n",
    "\n",
    "for rank, (word, freq) in enumerate(top_30, start=1):\n",
    "    print(f\"{rank:2d}. {word:<15} {freq}\")"
   ],
   "metadata": {
    "colab": {
     "base_uri": "https://localhost:8080/"
    },
    "id": "3ItVy_1g9mRe",
    "outputId": "dbfb0204-3286-4697-9aa3-06d6b156bdce",
    "ExecuteTime": {
     "end_time": "2025-07-03T12:29:52.464170Z",
     "start_time": "2025-07-03T12:29:52.447187Z"
    }
   },
   "outputs": [
    {
     "name": "stdout",
     "output_type": "stream",
     "text": [
      " 1. head            224\n",
      " 2. eyes            173\n",
      " 3. back            168\n",
      " 4. like            143\n",
      " 5. one             138\n",
      " 6. heart           131\n",
      " 7. get             123\n",
      " 8. face            121\n",
      " 9. got             117\n",
      "10. still           105\n",
      "11. time            104\n",
      "12. hand            99\n",
      "13. day             86\n",
      "14. went            84\n",
      "15. could           82\n",
      "16. see             80\n",
      "17. going           79\n",
      "18. felt            78\n",
      "19. know            77\n",
      "20. around          73\n",
      "21. right           72\n",
      "22. hands           71\n",
      "23. never           70\n",
      "24. feet            68\n",
      "25. really          67\n",
      "26. started         65\n",
      "27. go              64\n",
      "28. away            61\n",
      "29. first           60\n",
      "30. well            58\n"
     ]
    }
   ],
   "execution_count": 22
  },
  {
   "cell_type": "markdown",
   "source": [
    "A lot of the top words are concerning the human body, as for example the top 3 are \"head\", \"eyes\" and \"back\". Other than that, many verbs are about human feelings or movement, such as \"like\", \"see\", \"going\", \"felt\", \"started\".\n",
    "\n",
    "This is consistent with the task of predicting human emotions in a text, so there is not need for processing the dataset."
   ],
   "metadata": {
    "id": "pudi0G8-BC4w"
   }
  },
  {
   "cell_type": "markdown",
   "source": [
    "## Tokenization\n",
    "\n",
    "The `transformers` library directly provides the fitting tokenizer for a given model identifier, in our case `distilbert/distilbert-base-uncased`."
   ],
   "metadata": {
    "id": "SGyk2VWiF1O3"
   }
  },
  {
   "cell_type": "code",
   "source": [
    "model_identifier = \"distilbert/distilbert-base-uncased\"\n",
    "tok = transformers.AutoTokenizer.from_pretrained(model_identifier)\n",
    "tok_ds  = {k: v.map(lambda x: tok(x[\"text\"])) for k, v in ds.items()}"
   ],
   "metadata": {
    "colab": {
     "base_uri": "https://localhost:8080/",
     "height": 243,
     "referenced_widgets": [
      "f6497e28b59f40108ec6623619ef199a",
      "36dd3774f985406db2dc2de2c5b1a8c7",
      "cc2ca88e6b044797bf1b141dfdedb62e",
      "4bc58bf041ef4faf88414852bf4c31c1",
      "c223da986543457b833cb11a7eb3d639",
      "df4e15cd62fd4635b9a320b5467cb3f7",
      "947d0fecd5d54b158f2b255026e07bdf",
      "ce70419895424fa7b3fadcf62e0b059d",
      "0c71305c79524abb9329628e1debaa8a",
      "c26d5291f1e34521b0c9d67f51ca3d9a",
      "7a47abde348942bd8e08d49d9efe2f89",
      "94e555f306434f029a66ae61a56f89c8",
      "c0c3fa6412ba4bfea6da350a3d2bc740",
      "0614fbcfeb67472ca0156d4152374a2e",
      "19667872ba0b43b88016c68599c60b16",
      "ef3081ca8ad5407e947cad2f9d23d5d5",
      "e4ff665d47ef4ed9a6dc151e7f6a4912",
      "7cea508831c64e7e8eec9be8980eea07",
      "c391376605f341a4acbfd985c62c14ed",
      "69567baa158b4cd9a766e439abdb5cd2",
      "14416d90c9244b7cac6177676eaa56dd",
      "99bdc5d622554fe6a92f6caa7265b6d2",
      "93ba274208db49719a6bafbe283dec71",
      "f930ebc67d104f5d9b1bd0b5e2c76327",
      "122e295e7da14161aab25cddcc949e92",
      "516850e350374c6991c9bd76599ff983",
      "3b530ba8003f4515af2999a82b2afc96",
      "f1dc40788024452bb7c19c4f1c8ca917",
      "383d79648d184cbea6046d03850b0dd7",
      "7927c3e6570547d7840dfb53949c71e3",
      "f9155db1550a4725915b2821b6148525",
      "dd629b83216e4ce19170cd5f8332e7aa",
      "75fdd680f9ab4bbda6bc86eaadc409dd"
     ]
    },
    "id": "VDq67qsQ1UaR",
    "outputId": "8eb8f114-26e3-48ea-9b2d-8262031289f3",
    "ExecuteTime": {
     "end_time": "2025-07-03T12:29:52.796970Z",
     "start_time": "2025-07-03T12:29:52.477865Z"
    }
   },
   "outputs": [],
   "execution_count": 23
  },
  {
   "cell_type": "markdown",
   "source": [
    "## AI Training\n",
    "\n",
    "We use a BERT model from Google, which they developed in 2018.\n",
    "\n",
    "We download the model `distilbert/distilbert-base-uncased` from HuggingFace, a platform that hosts machine learning models and that develops ML libraries like `transformers` which we use. The full URL for our model is https://huggingface.co/distilbert/distilbert-base-uncased, which also contains more in depth information about it.\n",
    "\n",
    "`distilbert/distilbert-base-uncased` has about 67 million parameters, which is about the order of magnitude that can comfortable be used and fine-tuned without much cost. Its performance is superseded by later and bigger models like the *Gemma* series by Google aswell, but those have parameter dimension of 1 billion (so 10 times of what we use now), or even far more."
   ],
   "metadata": {
    "id": "CQDPlOFyDocZ"
   }
  },
  {
   "cell_type": "markdown",
   "source": [
    "The transformers library allows us the directly create the model from the model identifier on HuggingFace, just like the tokenizer. We specify that we are interested in multi-label classification, as per the problem description. The model constructor needs the number of labels for this, which is 5 in our case.\n",
    "\n"
   ],
   "metadata": {
    "id": "JSfOfbt48ooE"
   }
  },
  {
   "cell_type": "markdown",
   "source": [
    "In the `TrainingArguments` of the `transformers` library, we specify to log training and evaluation loss every epoch for detailed tracking. From manual testing, we observed that setting a lower learning rate than the default archieves a better final result, likely as the default parameters are tuned for bigger datasets than what we are working with. Similarly, we specify a higher weight decay, as otherways the model heavily overfits, with the validation loss increasing towards the end, while the training loss becomes nearly 0."
   ],
   "metadata": {
    "id": "ktw44JKFDucx"
   }
  },
  {
   "cell_type": "markdown",
   "source": [
    "In addition to the training and validation loss, we track the micro-F1 throughout the training because of the label imbalance we discussed earlier."
   ],
   "metadata": {
    "id": "jEkzbuPcGjN8"
   }
  },
  {
   "cell_type": "code",
   "source": [
    "bert_model = transformers.AutoModelForSequenceClassification.from_pretrained(\n",
    "            model_identifier,\n",
    "            num_labels=len(label_cols),\n",
    "            problem_type=\"multi_label_classification\")\n",
    "\n",
    "def compute_metrics(eval_pred):\n",
    "    logits, labels = eval_pred\n",
    "    probs  = torch.sigmoid(torch.tensor(logits)).numpy()\n",
    "    preds  = (probs > 0.5).astype(int)\n",
    "    micro_f1 = sklearn.metrics.f1_score(labels, preds, average=\"micro\")\n",
    "    return {\"micro_f1\": micro_f1}\n",
    "\n",
    "args = transformers.TrainingArguments(\n",
    "    output_dir=\"output_dir\",\n",
    "    eval_strategy=\"epoch\",\n",
    "    logging_strategy=\"steps\",\n",
    "    logging_steps=50,\n",
    "    save_strategy=\"epoch\",\n",
    "    per_device_train_batch_size=16,\n",
    "    per_device_eval_batch_size=16,\n",
    "    num_train_epochs=5,\n",
    "    report_to=\"none\",\n",
    "    learning_rate=1e-5, # small data -> small lr; default is 5e-5\n",
    "    weight_decay=0.5, # regularization\n",
    ")\n",
    "\n",
    "trainer = transformers.Trainer(bert_model, args,\n",
    "                  train_dataset  =tok_ds[\"train\"],\n",
    "                  eval_dataset   =tok_ds[\"eval\"],\n",
    "                  tokenizer      =tok,\n",
    "                  compute_metrics=compute_metrics)\n",
    "\n",
    "trainer.train()"
   ],
   "metadata": {
    "colab": {
     "base_uri": "https://localhost:8080/",
     "height": 364
    },
    "id": "TZLp8MBz1V2S",
    "outputId": "142432a8-ebcb-4daa-dc9d-3739cdbd39c4",
    "ExecuteTime": {
     "end_time": "2025-07-03T12:38:14.779601Z",
     "start_time": "2025-07-03T12:29:52.811850Z"
    }
   },
   "outputs": [
    {
     "name": "stderr",
     "output_type": "stream",
     "text": [
      "Some weights of DistilBertForSequenceClassification were not initialized from the model checkpoint at distilbert/distilbert-base-uncased and are newly initialized: ['classifier.bias', 'classifier.weight', 'pre_classifier.bias', 'pre_classifier.weight']\n",
      "You should probably TRAIN this model on a down-stream task to be able to use it for predictions and inference.\n",
      "/var/folders/25/22j442jd1kbbtszy07f7l15h0000gn/T/ipykernel_35299/1636019013.py:27: FutureWarning: `tokenizer` is deprecated and will be removed in version 5.0.0 for `Trainer.__init__`. Use `processing_class` instead.\n",
      "  trainer = transformers.Trainer(bert_model, args,\n",
      "/Users/moritzgross/PycharmProjects/ED-NLP/.venv/lib/python3.12/site-packages/torch/utils/data/dataloader.py:683: UserWarning: 'pin_memory' argument is set as true but not supported on MPS now, then device pinned memory won't be used.\n",
      "  warnings.warn(warn_msg)\n"
     ]
    },
    {
     "data": {
      "text/plain": [
       "<IPython.core.display.HTML object>"
      ],
      "text/html": [
       "\n",
       "    <div>\n",
       "      \n",
       "      <progress value='695' max='695' style='width:300px; height:20px; vertical-align: middle;'></progress>\n",
       "      [695/695 08:20, Epoch 5/5]\n",
       "    </div>\n",
       "    <table border=\"1\" class=\"dataframe\">\n",
       "  <thead>\n",
       " <tr style=\"text-align: left;\">\n",
       "      <th>Epoch</th>\n",
       "      <th>Training Loss</th>\n",
       "      <th>Validation Loss</th>\n",
       "      <th>Micro F1</th>\n",
       "    </tr>\n",
       "  </thead>\n",
       "  <tbody>\n",
       "    <tr>\n",
       "      <td>1</td>\n",
       "      <td>0.561300</td>\n",
       "      <td>0.505985</td>\n",
       "      <td>0.464968</td>\n",
       "    </tr>\n",
       "    <tr>\n",
       "      <td>2</td>\n",
       "      <td>0.465000</td>\n",
       "      <td>0.449406</td>\n",
       "      <td>0.639676</td>\n",
       "    </tr>\n",
       "    <tr>\n",
       "      <td>3</td>\n",
       "      <td>0.400900</td>\n",
       "      <td>0.436550</td>\n",
       "      <td>0.659898</td>\n",
       "    </tr>\n",
       "    <tr>\n",
       "      <td>4</td>\n",
       "      <td>0.370400</td>\n",
       "      <td>0.425777</td>\n",
       "      <td>0.667494</td>\n",
       "    </tr>\n",
       "    <tr>\n",
       "      <td>5</td>\n",
       "      <td>0.362300</td>\n",
       "      <td>0.422830</td>\n",
       "      <td>0.667513</td>\n",
       "    </tr>\n",
       "  </tbody>\n",
       "</table><p>"
      ]
     },
     "metadata": {},
     "output_type": "display_data"
    },
    {
     "name": "stderr",
     "output_type": "stream",
     "text": [
      "/Users/moritzgross/PycharmProjects/ED-NLP/.venv/lib/python3.12/site-packages/torch/utils/data/dataloader.py:683: UserWarning: 'pin_memory' argument is set as true but not supported on MPS now, then device pinned memory won't be used.\n",
      "  warnings.warn(warn_msg)\n",
      "/Users/moritzgross/PycharmProjects/ED-NLP/.venv/lib/python3.12/site-packages/torch/utils/data/dataloader.py:683: UserWarning: 'pin_memory' argument is set as true but not supported on MPS now, then device pinned memory won't be used.\n",
      "  warnings.warn(warn_msg)\n",
      "/Users/moritzgross/PycharmProjects/ED-NLP/.venv/lib/python3.12/site-packages/torch/utils/data/dataloader.py:683: UserWarning: 'pin_memory' argument is set as true but not supported on MPS now, then device pinned memory won't be used.\n",
      "  warnings.warn(warn_msg)\n",
      "/Users/moritzgross/PycharmProjects/ED-NLP/.venv/lib/python3.12/site-packages/torch/utils/data/dataloader.py:683: UserWarning: 'pin_memory' argument is set as true but not supported on MPS now, then device pinned memory won't be used.\n",
      "  warnings.warn(warn_msg)\n"
     ]
    },
    {
     "data": {
      "text/plain": [
       "TrainOutput(global_step=695, training_loss=0.4389926004752838, metrics={'train_runtime': 500.9334, 'train_samples_per_second': 22.099, 'train_steps_per_second': 1.387, 'total_flos': 146822611020420.0, 'train_loss': 0.4389926004752838, 'epoch': 5.0})"
      ]
     },
     "execution_count": 24,
     "metadata": {},
     "output_type": "execute_result"
    }
   ],
   "execution_count": 24
  },
  {
   "cell_type": "markdown",
   "source": [
    "We run the trained model on the held out testing data and compute the micro-F1 score, which is close to the tracked micro-F1 score logged during training 👍"
   ],
   "metadata": {
    "id": "v0irxuGJI9Kr"
   }
  },
  {
   "cell_type": "code",
   "metadata": {
    "colab": {
     "base_uri": "https://localhost:8080/",
     "height": 35
    },
    "id": "aiNkolsNxP2Y",
    "outputId": "a90f6b95-38b2-4389-8c2c-0d78f932ce0f",
    "ExecuteTime": {
     "end_time": "2025-07-03T12:38:20.106704Z",
     "start_time": "2025-07-03T12:38:14.961489Z"
    }
   },
   "source": [
    "test_out    = trainer.predict(tok_ds[\"test\"])\n",
    "test_scores = compute_metrics((test_out.predictions, test_out.label_ids))\n",
    "print(f\"Test micro-F1: {test_scores['micro_f1']:.3f}\")"
   ],
   "outputs": [
    {
     "name": "stderr",
     "output_type": "stream",
     "text": [
      "/Users/moritzgross/PycharmProjects/ED-NLP/.venv/lib/python3.12/site-packages/torch/utils/data/dataloader.py:683: UserWarning: 'pin_memory' argument is set as true but not supported on MPS now, then device pinned memory won't be used.\n",
      "  warnings.warn(warn_msg)\n"
     ]
    },
    {
     "data": {
      "text/plain": [
       "<IPython.core.display.HTML object>"
      ],
      "text/html": []
     },
     "metadata": {},
     "output_type": "display_data"
    },
    {
     "name": "stdout",
     "output_type": "stream",
     "text": [
      "Test micro-F1: 0.627\n"
     ]
    }
   ],
   "execution_count": 25
  },
  {
   "cell_type": "markdown",
   "source": [
    "Below is the detailed analysis of the results for each emotion individually, including precision and recall. We see that \"anger\" has the lowest recall, yet the highest accuracy, stemming from the imbalance of this label as seen in the introductory plot.\n",
    "\n",
    "Four out of five labels have accuracy of over 75%, except for \"fear\", which is the label closest to being balanced."
   ],
   "metadata": {
    "id": "iWq60FOEJ-P4"
   }
  },
  {
   "cell_type": "code",
   "source": [
    "# -- predictions -> 0/1 --------------------------------------------------------\n",
    "probs = torch.sigmoid(torch.tensor(test_out.predictions)).numpy()\n",
    "preds = (probs > 0.5).astype(int)\n",
    "true  = test_out.label_ids\n",
    "\n",
    "# -- 1. standard per-label P/R/F1/support --------------------------------------\n",
    "print(sklearn.metrics.classification_report(true, preds,\n",
    "                            target_names=label_cols))\n",
    "\n",
    "# -- 2. per-label accuracy (binary accuracy for each emotion) ------------------\n",
    "print(\"\\nPer-label accuracy:\")\n",
    "for lbl, acc in zip(label_cols, (preds == true).mean(axis=0)):\n",
    "    print(f\"  {lbl:<8}: {acc:.4f}\") # align prints nicely\n",
    "\n",
    "# -- 3. per-row accuracies -----------------------------------------------------\n",
    "print(\"\\nGlobal Accuracies\")\n",
    "print(f\"exactly correct rows        : {(preds == true).all(axis=1).mean():.3f}\")\n",
    "print(f\"accuracy across all fields  : {(preds == true).mean():.3f}\")"
   ],
   "metadata": {
    "colab": {
     "base_uri": "https://localhost:8080/"
    },
    "id": "2cfECDSN5UeL",
    "outputId": "ed0efc17-1a8f-4132-a3b6-3ae6c05a2386",
    "ExecuteTime": {
     "end_time": "2025-07-03T12:38:20.492217Z",
     "start_time": "2025-07-03T12:38:20.391191Z"
    }
   },
   "outputs": [
    {
     "name": "stdout",
     "output_type": "stream",
     "text": [
      "              precision    recall  f1-score   support\n",
      "\n",
      "       anger       0.00      0.00      0.00        37\n",
      "        fear       0.67      0.83      0.74       143\n",
      "         joy       0.75      0.53      0.62        79\n",
      "     sadness       0.61      0.55      0.58        84\n",
      "    surprise       0.74      0.49      0.59        79\n",
      "\n",
      "   micro avg       0.68      0.58      0.63       422\n",
      "   macro avg       0.55      0.48      0.51       422\n",
      "weighted avg       0.63      0.58      0.59       422\n",
      " samples avg       0.58      0.55      0.54       422\n",
      "\n",
      "\n",
      "Per-label accuracy:\n",
      "  anger   : 0.8664\n",
      "  fear    : 0.7004\n",
      "  joy     : 0.8159\n",
      "  sadness : 0.7581\n",
      "  surprise: 0.8051\n",
      "\n",
      "Global Accuracies\n",
      "exactly correct rows        : 0.343\n",
      "accuracy across all fields  : 0.789\n"
     ]
    },
    {
     "name": "stderr",
     "output_type": "stream",
     "text": [
      "/Users/moritzgross/PycharmProjects/ED-NLP/.venv/lib/python3.12/site-packages/sklearn/metrics/_classification.py:1706: UndefinedMetricWarning: Precision is ill-defined and being set to 0.0 in labels with no predicted samples. Use `zero_division` parameter to control this behavior.\n",
      "  _warn_prf(average, modifier, f\"{metric.capitalize()} is\", result.shape[0])\n",
      "/Users/moritzgross/PycharmProjects/ED-NLP/.venv/lib/python3.12/site-packages/sklearn/metrics/_classification.py:1706: UndefinedMetricWarning: Precision is ill-defined and being set to 0.0 in samples with no predicted labels. Use `zero_division` parameter to control this behavior.\n",
      "  _warn_prf(average, modifier, f\"{metric.capitalize()} is\", result.shape[0])\n",
      "/Users/moritzgross/PycharmProjects/ED-NLP/.venv/lib/python3.12/site-packages/sklearn/metrics/_classification.py:1706: UndefinedMetricWarning: Recall is ill-defined and being set to 0.0 in samples with no true labels. Use `zero_division` parameter to control this behavior.\n",
      "  _warn_prf(average, modifier, f\"{metric.capitalize()} is\", result.shape[0])\n",
      "/Users/moritzgross/PycharmProjects/ED-NLP/.venv/lib/python3.12/site-packages/sklearn/metrics/_classification.py:1706: UndefinedMetricWarning: F-score is ill-defined and being set to 0.0 in samples with no true nor predicted labels. Use `zero_division` parameter to control this behavior.\n",
      "  _warn_prf(average, modifier, f\"{metric.capitalize()} is\", result.shape[0])\n"
     ]
    }
   ],
   "execution_count": 26
  },
  {
   "cell_type": "markdown",
   "source": [
    "# Inference script"
   ],
   "metadata": {
    "id": "F8LI3VvLVqmM"
   }
  },
  {
   "cell_type": "code",
   "source": [
    "import torch\n",
    "from transformers import AutoTokenizer, AutoModelForSequenceClassification\n",
    "\n",
    "def predict(sentence: str, checkpoint_dir: str = \"output_dir/checkpoint-695\"):\n",
    "    tok  = AutoTokenizer.from_pretrained(checkpoint_dir)\n",
    "    bert_model = AutoModelForSequenceClassification.from_pretrained(checkpoint_dir).eval()\n",
    "\n",
    "    inputs = tok(sentence, return_tensors=\"pt\")\n",
    "\n",
    "    # multi-label uses sigmoid, not softmax\n",
    "    probs = bert_model(**inputs).logits.squeeze(0).sigmoid()\n",
    "    threshold = 0.50\n",
    "    labels = [\"anger\", \"fear\", \"joy\", \"sadness\", \"surprise\"]\n",
    "\n",
    "    predicted = [lbl for p,lbl in zip(probs, labels) if p.item() >= threshold]\n",
    "\n",
    "    print(\"Sigmoid scores :\", {l:round(p.item(),3) for l,p in zip(labels, probs)})\n",
    "    print(\"Predicted labels:\", predicted or [\"<none>\"])\n",
    "\n",
    "\n",
    "predict(\"hello\")"
   ],
   "metadata": {
    "colab": {
     "base_uri": "https://localhost:8080/"
    },
    "id": "ZCy_ZBCcQVAQ",
    "outputId": "2a4d2db3-675a-4bc6-ef66-9ad9875466c1",
    "ExecuteTime": {
     "end_time": "2025-07-03T12:42:33.761787Z",
     "start_time": "2025-07-03T12:42:33.008867Z"
    }
   },
   "outputs": [
    {
     "name": "stdout",
     "output_type": "stream",
     "text": [
      "Sigmoid scores : {'anger': 0.109, 'fear': 0.204, 'joy': 0.551, 'sadness': 0.121, 'surprise': 0.434}\n",
      "Predicted labels: ['joy']\n"
     ]
    }
   ],
   "execution_count": 29
  }
 ]
}
