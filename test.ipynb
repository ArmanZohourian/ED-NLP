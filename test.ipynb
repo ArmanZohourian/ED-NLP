{
 "cells": [
  {
   "metadata": {},
   "cell_type": "markdown",
   "source": "# Testing on new data",
   "id": "2c6228fb1ca72ef5"
  },
  {
   "cell_type": "code",
   "id": "3ffb68e6f1d41524",
   "metadata": {
    "ExecuteTime": {
     "end_time": "2025-07-11T09:38:53.615967Z",
     "start_time": "2025-07-11T09:38:53.604451Z"
    }
   },
   "source": [
    "from main import predict_one_hot, labels\n",
    "import sklearn, pandas as pd, numpy as np, matplotlib.pyplot as plt"
   ],
   "outputs": [],
   "execution_count": 35
  },
  {
   "metadata": {
    "ExecuteTime": {
     "end_time": "2025-07-11T09:39:07.041497Z",
     "start_time": "2025-07-11T09:38:53.627567Z"
    }
   },
   "cell_type": "code",
   "source": [
    "TEST_FILE_PATH = \"track-a-test.csv\"\n",
    "preds = np.array(predict_one_hot(TEST_FILE_PATH))"
   ],
   "id": "82293519cea2ccc",
   "outputs": [],
   "execution_count": 36
  },
  {
   "metadata": {},
   "cell_type": "markdown",
   "source": "## re-use testing code from training notebook",
   "id": "ec2e02d2b8790e77"
  },
  {
   "metadata": {
    "ExecuteTime": {
     "end_time": "2025-07-11T09:39:07.221709Z",
     "start_time": "2025-07-11T09:39:07.098007Z"
    }
   },
   "cell_type": "code",
   "source": [
    "means_test = pd.read_csv(TEST_FILE_PATH)[labels].mean()\n",
    "means_train = pd.read_csv(\"track-a.csv\")[labels].mean()\n",
    "\n",
    "print(\"means test\")\n",
    "print(means_test, \"\\n\")\n",
    "\n",
    "print(\"diff\")\n",
    "print(means_train - means_test)\n",
    "\n",
    "fig, ax = plt.subplots()\n",
    "ax.bar(means_test.index, means_test.values)\n",
    "ax.set_ylabel(\"Mean\")\n",
    "ax.set_title(\"Dataset imbalance by label\")\n",
    "ax.set_xticks(range(len(means_test)))\n",
    "ax.set_xticklabels(means_test.index)\n",
    "ax.set_ylim(0, means_test.max() * 1.1)\n",
    "\n",
    "plt.show()"
   ],
   "id": "32fc4553d17582f7",
   "outputs": [
    {
     "name": "stdout",
     "output_type": "stream",
     "text": [
      "means test\n",
      "anger       0.137931\n",
      "fear        0.543103\n",
      "joy         0.267241\n",
      "sadness     0.301724\n",
      "surprise    0.267241\n",
      "dtype: float64 \n",
      "\n",
      "diff\n",
      "anger      -0.017628\n",
      "fear        0.038905\n",
      "joy        -0.023744\n",
      "sadness     0.015472\n",
      "surprise    0.035866\n",
      "dtype: float64\n"
     ]
    },
    {
     "data": {
      "text/plain": [
       "<Figure size 640x480 with 1 Axes>"
      ],
      "image/png": "[encoded data removed]"
     },
     "metadata": {},
     "output_type": "display_data"
    }
   ],
   "execution_count": 37
  },
  {
   "metadata": {
    "ExecuteTime": {
     "end_time": "2025-07-11T09:39:07.338477Z",
     "start_time": "2025-07-11T09:39:07.295765Z"
    }
   },
   "cell_type": "code",
   "source": [
    "ground_truth  = pd.read_csv(TEST_FILE_PATH)[labels].to_numpy()\n",
    "\n",
    "# -- 1. standard per-label P/R/F1/support --------------------------------------\n",
    "print(sklearn.metrics.classification_report(ground_truth, preds,\n",
    "                                            target_names=labels,\n",
    "                                            zero_division=np.nan\n",
    "                                            )\n",
    "      )\n",
    "\n",
    "# -- 2. per-label accuracy (binary accuracy for each emotion) ------------------\n",
    "print(\"\\nPer-label accuracy:\")\n",
    "test_label_accuracy = (preds == ground_truth).mean(axis=0)\n",
    "for lbl, acc in zip(labels, test_label_accuracy):\n",
    "    print(f\"  {lbl:<8}: {acc:.4f}\") # align prints nicely\n",
    "\n",
    "# -- 3. per-row accuracies -----------------------------------------------------\n",
    "print(\"\\nGlobal Accuracies\")\n",
    "test_row_accuracy = (preds == ground_truth).all(axis=1).mean()\n",
    "test_field_accuracy = (preds == ground_truth).mean()\n",
    "print(f\"exactly correct rows        : {test_row_accuracy:.3f}\")\n",
    "print(f\"accuracy across all fields  : {test_field_accuracy:.3f}\")"
   ],
   "id": "581198038a6746d3",
   "outputs": [
    {
     "name": "stdout",
     "output_type": "stream",
     "text": [
      "              precision    recall  f1-score   support\n",
      "\n",
      "       anger       1.00      0.19      0.32        16\n",
      "        fear       0.66      0.78      0.72        63\n",
      "         joy       0.77      0.55      0.64        31\n",
      "     sadness       0.81      0.71      0.76        35\n",
      "    surprise       0.72      0.42      0.53        31\n",
      "\n",
      "   micro avg       0.72      0.61      0.66       176\n",
      "   macro avg       0.79      0.53      0.59       176\n",
      "weighted avg       0.75      0.61      0.64       176\n",
      " samples avg       0.71      0.64      0.58       176\n",
      "\n",
      "\n",
      "Per-label accuracy:\n",
      "  anger   : 0.8879\n",
      "  fear    : 0.6638\n",
      "  joy     : 0.8362\n",
      "  sadness : 0.8621\n",
      "  surprise: 0.8017\n",
      "\n",
      "Global Accuracies\n",
      "exactly correct rows        : 0.362\n",
      "accuracy across all fields  : 0.810\n"
     ]
    }
   ],
   "execution_count": 38
  },
  {
   "metadata": {
    "ExecuteTime": {
     "end_time": "2025-07-11T09:39:07.498641Z",
     "start_time": "2025-07-11T09:39:07.486601Z"
    }
   },
   "cell_type": "code",
   "source": [
    "train_label_accuracy = np.array([0.8664, 0.7004, 0.8159, 0.7581, 0.8051])\n",
    "train_label_accuracy"
   ],
   "id": "dc1524d5929f23d0",
   "outputs": [
    {
     "data": {
      "text/plain": [
       "array([0.8664, 0.7004, 0.8159, 0.7581, 0.8051])"
      ]
     },
     "execution_count": 39,
     "metadata": {},
     "output_type": "execute_result"
    }
   ],
   "execution_count": 39
  },
  {
   "metadata": {
    "ExecuteTime": {
     "end_time": "2025-07-11T09:39:07.544587Z",
     "start_time": "2025-07-11T09:39:07.534545Z"
    }
   },
   "cell_type": "code",
   "source": "test_label_accuracy",
   "id": "73915ca9ef009b96",
   "outputs": [
    {
     "data": {
      "text/plain": [
       "array([0.88793103, 0.6637931 , 0.8362069 , 0.86206897, 0.80172414])"
      ]
     },
     "execution_count": 40,
     "metadata": {},
     "output_type": "execute_result"
    }
   ],
   "execution_count": 40
  },
  {
   "metadata": {
    "ExecuteTime": {
     "end_time": "2025-07-11T09:39:07.594148Z",
     "start_time": "2025-07-11T09:39:07.582690Z"
    }
   },
   "cell_type": "code",
   "source": "(train_label_accuracy[[0,1,2,4]]-test_label_accuracy[[0,1,2,4]]).mean()",
   "id": "c2ceb4642b5887b8",
   "outputs": [
    {
     "data": {
      "text/plain": [
       "np.float64(-0.0004637931034482956)"
      ]
     },
     "execution_count": 41,
     "metadata": {},
     "output_type": "execute_result"
    }
   ],
   "execution_count": 41
  },
  {
   "metadata": {
    "ExecuteTime": {
     "end_time": "2025-07-11T09:39:07.645176Z",
     "start_time": "2025-07-11T09:39:07.642048Z"
    }
   },
   "cell_type": "code",
   "source": "",
   "id": "134a17ee1f64ac4b",
   "outputs": [],
   "execution_count": null
  }
 ],
 "metadata": {
  "kernelspec": {
   "display_name": "Python 3",
   "language": "python",
   "name": "python3"
  },
  "language_info": {
   "codemirror_mode": {
    "name": "ipython",
    "version": 2
   },
   "file_extension": ".py",
   "mimetype": "text/x-python",
   "name": "python",
   "nbconvert_exporter": "python",
   "pygments_lexer": "ipython2",
   "version": "2.7.6"
  }
 },
 "nbformat": 4,
 "nbformat_minor": 5
}
